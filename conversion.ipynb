{
 "cells": [
  {
   "cell_type": "code",
   "execution_count": 34,
   "metadata": {},
   "outputs": [],
   "source": [
    "import pandas as pd"
   ]
  },
  {
   "cell_type": "code",
   "execution_count": 35,
   "metadata": {},
   "outputs": [
    {
     "name": "stdout",
     "output_type": "stream",
     "text": [
      "   Unnamed: 0       Star_name     Distance  Mass Radius\n",
      "0           0             Sun  0.000015813   1.0      1\n",
      "1           1          Sirius          8.6   2.1   1.71\n",
      "2           2         Canopus          310  15.0     71\n",
      "3           3  Alpha Centauri          4.4   1.1    1.2\n",
      "4           4        Arcturus           37   1.1     26\n"
     ]
    }
   ],
   "source": [
    "df = pd.read_csv('final_data.csv')\n",
    "print(df.head())"
   ]
  },
  {
   "cell_type": "code",
   "execution_count": 36,
   "metadata": {},
   "outputs": [
    {
     "data": {
      "text/plain": [
       "Index(['Unnamed: 0', 'Star_name', 'Distance', 'Mass', 'Radius'], dtype='object')"
      ]
     },
     "execution_count": 36,
     "metadata": {},
     "output_type": "execute_result"
    }
   ],
   "source": [
    "df.columns"
   ]
  },
  {
   "cell_type": "code",
   "execution_count": 37,
   "metadata": {},
   "outputs": [],
   "source": [
    "df.drop(['Unnamed: 0'],axis=1,inplace=True)"
   ]
  },
  {
   "cell_type": "code",
   "execution_count": 38,
   "metadata": {},
   "outputs": [
    {
     "name": "stdout",
     "output_type": "stream",
     "text": [
      "        Star_name     Distance  Mass Radius\n",
      "0             Sun  0.000015813   1.0      1\n",
      "1          Sirius          8.6   2.1   1.71\n",
      "2         Canopus          310  15.0     71\n",
      "3  Alpha Centauri          4.4   1.1    1.2\n",
      "4        Arcturus           37   1.1     26\n"
     ]
    }
   ],
   "source": [
    "print(df.head())"
   ]
  },
  {
   "cell_type": "code",
   "execution_count": 39,
   "metadata": {},
   "outputs": [
    {
     "name": "stdout",
     "output_type": "stream",
     "text": [
      "Star_name     object\n",
      "Distance      object\n",
      "Mass         float64\n",
      "Radius        object\n",
      "dtype: object\n"
     ]
    }
   ],
   "source": [
    "print(df.dtypes)"
   ]
  },
  {
   "cell_type": "code",
   "execution_count": 40,
   "metadata": {},
   "outputs": [],
   "source": [
    "\n",
    "df[\"Radius\"] =df[\"Radius\"].apply(lambda x: x.replace('$', '').replace(',','')).astype('float')"
   ]
  },
  {
   "cell_type": "code",
   "execution_count": 41,
   "metadata": {},
   "outputs": [
    {
     "name": "stdout",
     "output_type": "stream",
     "text": [
      "Star_name     object\n",
      "Distance      object\n",
      "Mass         float64\n",
      "Radius       float64\n",
      "dtype: object\n"
     ]
    }
   ],
   "source": [
    "print(df.dtypes)\n"
   ]
  },
  {
   "cell_type": "code",
   "execution_count": 42,
   "metadata": {},
   "outputs": [],
   "source": [
    "mass = df['Mass'].tolist()\n",
    "radius = df['Radius'].tolist()\n",
    "gravity=[]\n",
    "\n",
    "def convert_to_si(radius,mass):\n",
    "    for i in range(0,len(radius)-1):\n",
    "        radius[i]=radius[i]*6.957e+8\n",
    "        mass[i]=mass[i]*1.989e+30\n",
    "convert_to_si(radius,mass)"
   ]
  },
  {
   "cell_type": "code",
   "execution_count": null,
   "metadata": {},
   "outputs": [],
   "source": []
  },
  {
   "cell_type": "code",
   "execution_count": 43,
   "metadata": {},
   "outputs": [
    {
     "name": "stdout",
     "output_type": "stream",
     "text": [
      "                  Star_name     Distance       Mass     Radius       Gravity\n",
      "0                       Sun  0.000015813   1.000000   1.000000  2.742692e+02\n",
      "1                    Sirius          8.6   2.100000   1.710000  1.969718e+02\n",
      "2                   Canopus          310  15.000000  71.000000  8.161153e-01\n",
      "3            Alpha Centauri          4.4   1.100000   1.200000  2.095112e+02\n",
      "4                  Arcturus           37   1.100000  26.000000  4.462960e-01\n",
      "..                      ...          ...        ...        ...           ...\n",
      "248  2MASSI J2356547-155310           74   0.076367   0.112012  1.669385e+03\n",
      "249          WISE 0410+1502           20   0.005728   0.120233  1.086673e+02\n",
      "250         WISE 0458+6434A         35.9   0.014319   0.431605  2.108201e+01\n",
      "251         WISE 0458+6434B         35.9   0.009546   0.390499  1.716928e+01\n",
      "252          WISE 1405+5534         25.3   0.028638   0.088376  2.447107e-10\n",
      "\n",
      "[253 rows x 5 columns]\n"
     ]
    }
   ],
   "source": [
    "def gravity_calculation(radius,mass):\n",
    "    G = 6.674e-11\n",
    "    for index in range(0,len(mass)):\n",
    "        g= (mass[index]*G)/((radius[index])**2)\n",
    "        gravity.append(g)\n",
    "gravity_calculation(radius,mass)\n",
    "df[\"Gravity\"]=gravity\n",
    "print(df)"
   ]
  },
  {
   "cell_type": "code",
   "execution_count": null,
   "metadata": {},
   "outputs": [],
   "source": [
    "df.to_csv(\"star_with_gravity.csv\")"
   ]
  }
 ],
 "metadata": {
  "kernelspec": {
   "display_name": "Python 3",
   "language": "python",
   "name": "python3"
  },
  "language_info": {
   "codemirror_mode": {
    "name": "ipython",
    "version": 3
   },
   "file_extension": ".py",
   "mimetype": "text/x-python",
   "name": "python",
   "nbconvert_exporter": "python",
   "pygments_lexer": "ipython3",
   "version": "3.10.0"
  },
  "orig_nbformat": 4,
  "vscode": {
   "interpreter": {
    "hash": "f73ed9574a1394a35fcd02a9c878d19ab9aaba22225a4e0558c852c190b3e114"
   }
  }
 },
 "nbformat": 4,
 "nbformat_minor": 2
}
